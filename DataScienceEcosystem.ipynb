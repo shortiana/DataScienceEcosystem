{
 "cells": [
  {
   "cell_type": "markdown",
   "id": "104c7b65",
   "metadata": {},
   "source": [
    "# Data Science Tools and Ecosystem"
   ]
  },
  {
   "cell_type": "markdown",
   "id": "e6850540",
   "metadata": {},
   "source": [
    "## In this notebook, Data Science Tools and Ecosystem are summarized."
   ]
  },
  {
   "cell_type": "markdown",
   "id": "25c224fa",
   "metadata": {},
   "source": [
    "## Objectives:"
   ]
  },
  {
   "cell_type": "markdown",
   "id": "baf2c749",
   "metadata": {},
   "source": [
    "* List popular languages for Data Science\n",
    "* List popular libraries for Data Science\n",
    "* Create a table of Data Science tools\n",
    "* Create codes fro artihmetic expressions"
   ]
  },
  {
   "cell_type": "markdown",
   "id": "74655000",
   "metadata": {},
   "source": [
    "### Some of the popular languages that Data Scientists use are:"
   ]
  },
  {
   "cell_type": "markdown",
   "id": "0598b4ca",
   "metadata": {},
   "source": [
    "1. Python\n",
    "2. Java\n",
    "3. C++"
   ]
  },
  {
   "cell_type": "markdown",
   "id": "5e969fa5",
   "metadata": {},
   "source": [
    "|Data Science Tools|\n",
    "|------------------|\n",
    "|R Studio|\n",
    "|Jupiter Notebook|\n",
    "|VS Code|\n"
   ]
  },
  {
   "cell_type": "markdown",
   "id": "69afd63a",
   "metadata": {},
   "source": [
    "### Below are a few examples of evaluating arithmetic expressions in Python"
   ]
  },
  {
   "cell_type": "code",
   "execution_count": 1,
   "id": "74da4499",
   "metadata": {},
   "outputs": [
    {
     "data": {
      "text/plain": [
       "17"
      ]
     },
     "execution_count": 1,
     "metadata": {},
     "output_type": "execute_result"
    }
   ],
   "source": [
    "# This a simple arithmetic expression to mutiply then add integers\n",
    "(3*4)+5"
   ]
  },
  {
   "cell_type": "code",
   "execution_count": 2,
   "id": "8b0dcf44",
   "metadata": {},
   "outputs": [
    {
     "data": {
      "text/plain": [
       "3.3333333333333335"
      ]
     },
     "execution_count": 2,
     "metadata": {},
     "output_type": "execute_result"
    }
   ],
   "source": [
    "# This will convert 200 minutes to hours by diving by 60\n",
    "200/60"
   ]
  },
  {
   "cell_type": "markdown",
   "id": "d25aad73",
   "metadata": {},
   "source": [
    "## Author\n",
    "Leonardo Corti"
   ]
  },
  {
   "cell_type": "code",
   "execution_count": null,
   "id": "e1e4bbb9",
   "metadata": {},
   "outputs": [],
   "source": []
  }
 ],
 "metadata": {
  "kernelspec": {
   "display_name": "Python 3 (ipykernel)",
   "language": "python",
   "name": "python3"
  },
  "language_info": {
   "codemirror_mode": {
    "name": "ipython",
    "version": 3
   },
   "file_extension": ".py",
   "mimetype": "text/x-python",
   "name": "python",
   "nbconvert_exporter": "python",
   "pygments_lexer": "ipython3",
   "version": "3.11.4"
  }
 },
 "nbformat": 4,
 "nbformat_minor": 5
}
